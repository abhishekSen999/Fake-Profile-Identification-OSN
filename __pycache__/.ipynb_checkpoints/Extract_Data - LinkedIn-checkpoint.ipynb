{
 "cells": [
  {
   "cell_type": "code",
   "execution_count": 43,
   "metadata": {},
   "outputs": [],
   "source": [
    "#THIS IS FINAL WORKING CODE. "
   ]
  },
  {
   "cell_type": "code",
   "execution_count": 48,
   "metadata": {},
   "outputs": [],
   "source": [
    "from bs4 import BeautifulSoup as soup\n",
    "import re\n",
    "import json\n",
    "import csv"
   ]
  },
  {
   "cell_type": "code",
   "execution_count": 49,
   "metadata": {},
   "outputs": [],
   "source": [
    "#define Functions\n",
    "def getAttrFeatureAccess(y):      # for 4\n",
    "    canBrowseProfiles = y[\"data\"][\"canBrowseProfiles\"]\n",
    "    canViewJobAnalytics = y[\"data\"][\"canViewJobAnalytics\"]\n",
    "    print(\"FA\")    \n",
    "    return canBrowseProfiles,canViewJobAnalytics\n",
    "\n",
    "def getAttrPrivacySettings(y):     #14\n",
    "    messagingTypingIndicators = y[\"data\"][\"messagingTypingIndicators\"]\n",
    "    allowOpenProfile = y[\"data\"][\"allowOpenProfile\"]\n",
    "    profilePictureVisibilitySetting = y[\"data\"][\"profilePictureVisibilitySetting\"]\n",
    "    showPublicProfile = y[\"data\"][\"showPublicProfile\"]\n",
    "    publicProfilePictureVisibilitySetting = y[\"data\"][\"publicProfilePictureVisibilitySetting\"]\n",
    "    messagingSeenReceipts = y[\"data\"][\"messagingSeenReceipts\"]\n",
    "    print(\"ps\")\n",
    "    return messagingTypingIndicators, allowOpenProfile, profilePictureVisibilitySetting, showPublicProfile, publicProfilePictureVisibilitySetting, messagingSeenReceipts\n",
    "\n",
    "def getAttrMemberBadges(y):   #16\n",
    "    premium = y[\"data\"][\"premium\"]\n",
    "    influencer = y[\"data\"][\"influencer\"]\n",
    "    openLink = y[\"data\"][\"openLink\"]\n",
    "    jobSeeker = y[\"data\"][\"jobSeeker\"]\n",
    "    print(\"mb\")\n",
    "    return premium, influencer, openLink, jobSeeker\n",
    "\n",
    "def getAttrProfileNetworkInfo(y):    #18\n",
    "    distance = y[\"data\"][\"distance\"][\"value\"]\n",
    "    followable = y[\"data\"][\"followable\"]\n",
    "    followersCount = y[\"data\"][\"followersCount\"]\n",
    "    connectionsCount = y[\"data\"][\"connectionsCount\"]\n",
    "    print(\"pni\")\n",
    "    return distance,followable,followersCount,connectionsCount\n",
    "\n",
    "def getAttrMiniProfile(y):     # 28\n",
    "    firstName = y[\"data\"][\"firstName\"]\n",
    "    lastName = y[\"data\"][\"lastName\"]\n",
    "    occupation = y[\"data\"][\"occupation\"]\n",
    "    print(\"mp\")\n",
    "    return firstName,lastName,occupation"
   ]
  },
  {
   "cell_type": "code",
   "execution_count": null,
   "metadata": {},
   "outputs": [],
   "source": []
  },
  {
   "cell_type": "code",
   "execution_count": 50,
   "metadata": {},
   "outputs": [
    {
     "data": {
      "text/plain": [
       "37"
      ]
     },
     "execution_count": 50,
     "metadata": {},
     "output_type": "execute_result"
    }
   ],
   "source": [
    "#Read the page source saved as txt\n",
    "\n",
    "#page_src = \"data/gaurav_kumar.txt\"\n",
    "page_src = \"data/1.txt\"\n",
    "\n",
    "f = open(page_src, \"r\", encoding=\"utf8\")     #open txt file\n",
    "page = f.read()              #read the page \n",
    "\n",
    "#Represent the txt as a nested data structure using Beautiful soup\n",
    "page_soup = soup(page, \"html.parser\")\n",
    "\n",
    "filtered = page_soup.find_all('code')\n",
    "len(filtered)"
   ]
  },
  {
   "cell_type": "code",
   "execution_count": 51,
   "metadata": {},
   "outputs": [
    {
     "name": "stdout",
     "output_type": "stream",
     "text": [
      "FA\n",
      "ps\n",
      "mb\n",
      "pni\n",
      "mp\n"
     ]
    }
   ],
   "source": [
    "j=0\n",
    "for i in range(len(filtered)-1):\n",
    "    x = filtered[i].get_text()\n",
    "    y = json.loads(x)\n",
    "    \n",
    "    if (\"data\" in y): \n",
    "        full_type = y[\"data\"][\"$type\"]\n",
    "        type_3 = full_type.split(\".\")[3]\n",
    "        if(type_3 == 'premium'):\n",
    "            feature_type = full_type.split(\".\")[-1]\n",
    "            #print(i, feature_type)\n",
    "            canBrowseProfiles,canViewJobAnalytics = getAttrFeatureAccess(y)\n",
    "            \n",
    "        elif(type_3 == 'identity'):\n",
    "            feature_type = full_type.split(\".\")[-1]\n",
    "            #print(i, feature_type)\n",
    "            if(feature_type == 'PrivacySettings'):\n",
    "                messagingTypingIndicators, allowOpenProfile, profilePictureVisibilitySetting, showPublicProfile, publicProfilePictureVisibilitySetting, messagingSeenReceipts = getAttrPrivacySettings(y)\n",
    "            elif(feature_type == 'MemberBadges'):\n",
    "                premium, influencer, openLink, jobSeeker = getAttrMemberBadges(y)\n",
    "            elif(feature_type == 'ProfileNetworkInfo'):\n",
    "                distance,followable,followersCount,connectionsCount = getAttrProfileNetworkInfo(y)\n",
    "            elif(feature_type == 'MiniProfile'):\n",
    "                firstName,lastName,occupation = getAttrMiniProfile(y)\n",
    "                \n",
    "\n",
    "csvRow = [canBrowseProfiles, \n",
    "      canViewJobAnalytics,\n",
    "      messagingTypingIndicators,\n",
    "    allowOpenProfile,\n",
    "    profilePictureVisibilitySetting,\n",
    "    showPublicProfile,\n",
    "    publicProfilePictureVisibilitySetting,\n",
    "    messagingSeenReceipts,\n",
    "     premium,\n",
    "    influencer,\n",
    "    openLink,\n",
    "    jobSeeker,\n",
    "      distance,\n",
    "    followable,\n",
    "    followersCount,\n",
    "    connectionsCount,\n",
    "    firstName,\n",
    "    lastName,\n",
    "    occupation]\n",
    "\n",
    "csvfile = \"data/user_data.csv\"\n",
    "with open(csvfile, \"a\", newline='') as fp:\n",
    "    wr = csv.writer(fp, dialect='excel')\n",
    "    wr.writerow(csvRow)\n",
    "    #wr.writerow(['a', 'b', 'c', 'd', 'e', 'f', 'g'])\n",
    "\n",
    "#open(csvfile, 'r').read()"
   ]
  },
  {
   "cell_type": "code",
   "execution_count": null,
   "metadata": {},
   "outputs": [],
   "source": []
  },
  {
   "cell_type": "code",
   "execution_count": null,
   "metadata": {},
   "outputs": [],
   "source": []
  }
 ],
 "metadata": {
  "kernelspec": {
   "display_name": "Python 3",
   "language": "python",
   "name": "python3"
  },
  "language_info": {
   "codemirror_mode": {
    "name": "ipython",
    "version": 3
   },
   "file_extension": ".py",
   "mimetype": "text/x-python",
   "name": "python",
   "nbconvert_exporter": "python",
   "pygments_lexer": "ipython3",
   "version": "3.6.9"
  }
 },
 "nbformat": 4,
 "nbformat_minor": 2
}
